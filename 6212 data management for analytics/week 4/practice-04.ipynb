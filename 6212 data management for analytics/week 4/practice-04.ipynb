{
 "cells": [
  {
   "cell_type": "markdown",
   "metadata": {},
   "source": [
    "# Week 4 lecture notes - Basic SQL DML"
   ]
  },
  {
   "cell_type": "markdown",
   "metadata": {},
   "source": [
    "This week and the next few weeks we will be using our notebooks to connect to relational database systems.  To do this, we need the [ipython-sql](https://github.com/catherinedevlin/ipython-sql) library installed. It's already installed on your DMFA EC2 instance. If you are running the notebook on your DMFA EC2 instance, you are skip the rest of this section. \n",
    "\n",
    "To check, run this:"
   ]
  },
  {
   "cell_type": "code",
   "execution_count": 1,
   "metadata": {},
   "outputs": [
    {
     "name": "stdout",
     "output_type": "stream",
     "text": [
      "ipython-sql==0.3.9\n"
     ]
    }
   ],
   "source": [
    "!pip freeze | grep ipython-sql"
   ]
  },
  {
   "cell_type": "markdown",
   "metadata": {},
   "source": [
    "## Part 1 - Data manipulation (DML)\n",
    "\n",
    "Get the ```survey.db``` SQLite3 database file from the [Software Carpentry lesson](http://swcarpentry.github.io/sql-novice-survey/discussion.html) and connect to it."
   ]
  },
  {
   "cell_type": "code",
   "execution_count": 2,
   "metadata": {
    "collapsed": true
   },
   "outputs": [
    {
     "name": "stdout",
     "output_type": "stream",
     "text": [
      "--2018-09-16 21:43:05--  http://files.software-carpentry.org/survey.db\n",
      "Resolving files.software-carpentry.org (files.software-carpentry.org)... 52.84.122.73, 52.84.122.59, 52.84.122.204, ...\n",
      "Connecting to files.software-carpentry.org (files.software-carpentry.org)|52.84.122.73|:80... connected.\n",
      "HTTP request sent, awaiting response... 301 Moved Permanently\n",
      "Location: https://files.software-carpentry.org/survey.db [following]\n",
      "--2018-09-16 21:43:06--  https://files.software-carpentry.org/survey.db\n",
      "Connecting to files.software-carpentry.org (files.software-carpentry.org)|52.84.122.73|:443... connected.\n",
      "HTTP request sent, awaiting response... 200 OK\n",
      "Length: 20480 (20K) [application/octet-stream]\n",
      "Saving to: ‘survey.db’\n",
      "\n",
      "survey.db           100%[===================>]  20.00K  --.-KB/s    in 0s      \n",
      "\n",
      "2018-09-16 21:43:06 (114 MB/s) - ‘survey.db’ saved [20480/20480]\n",
      "\n"
     ]
    }
   ],
   "source": [
    "!wget -O survey.db http://files.software-carpentry.org/survey.db"
   ]
  },
  {
   "cell_type": "code",
   "execution_count": 3,
   "metadata": {
    "collapsed": true
   },
   "outputs": [],
   "source": [
    "%load_ext sql"
   ]
  },
  {
   "cell_type": "code",
   "execution_count": 4,
   "metadata": {
    "collapsed": true
   },
   "outputs": [
    {
     "data": {
      "text/plain": [
       "'Connected: @survey.db'"
      ]
     },
     "execution_count": 4,
     "metadata": {},
     "output_type": "execute_result"
    }
   ],
   "source": [
    "%sql sqlite:///survey.db"
   ]
  },
  {
   "cell_type": "markdown",
   "metadata": {},
   "source": [
    "## Basic queries: SELECT, DISTINCT, FROM, ORDER BY"
   ]
  },
  {
   "cell_type": "markdown",
   "metadata": {},
   "source": [
    "Let's look at the data first:"
   ]
  },
  {
   "cell_type": "code",
   "execution_count": 7,
   "metadata": {
    "collapsed": true
   },
   "outputs": [
    {
     "name": "stdout",
     "output_type": "stream",
     "text": [
      " * sqlite:///survey.db\n",
      "Done.\n"
     ]
    },
    {
     "data": {
      "text/html": [
       "<table>\n",
       "    <tr>\n",
       "        <th>tbl_name</th>\n",
       "    </tr>\n",
       "    <tr>\n",
       "        <td>Person</td>\n",
       "    </tr>\n",
       "    <tr>\n",
       "        <td>Site</td>\n",
       "    </tr>\n",
       "    <tr>\n",
       "        <td>Visited</td>\n",
       "    </tr>\n",
       "    <tr>\n",
       "        <td>Survey</td>\n",
       "    </tr>\n",
       "</table>"
      ],
      "text/plain": [
       "[('Person',), ('Site',), ('Visited',), ('Survey',)]"
      ]
     },
     "execution_count": 7,
     "metadata": {},
     "output_type": "execute_result"
    }
   ],
   "source": [
    "%%sql\n",
    "SELECT tbl_name FROM sqlite_master WHERE type='table';"
   ]
  },
  {
   "cell_type": "code",
   "execution_count": 8,
   "metadata": {
    "collapsed": true
   },
   "outputs": [
    {
     "name": "stdout",
     "output_type": "stream",
     "text": [
      " * sqlite:///survey.db\n",
      "Done.\n"
     ]
    },
    {
     "data": {
      "text/html": [
       "<table>\n",
       "    <tr>\n",
       "        <th>ident</th>\n",
       "        <th>personal</th>\n",
       "        <th>family</th>\n",
       "    </tr>\n",
       "    <tr>\n",
       "        <td>dyer</td>\n",
       "        <td>William</td>\n",
       "        <td>Dyer</td>\n",
       "    </tr>\n",
       "    <tr>\n",
       "        <td>pb</td>\n",
       "        <td>Frank</td>\n",
       "        <td>Pabodie</td>\n",
       "    </tr>\n",
       "    <tr>\n",
       "        <td>lake</td>\n",
       "        <td>Anderson</td>\n",
       "        <td>Lake</td>\n",
       "    </tr>\n",
       "    <tr>\n",
       "        <td>roe</td>\n",
       "        <td>Valentina</td>\n",
       "        <td>Roerich</td>\n",
       "    </tr>\n",
       "    <tr>\n",
       "        <td>danforth</td>\n",
       "        <td>Frank</td>\n",
       "        <td>Danforth</td>\n",
       "    </tr>\n",
       "</table>"
      ],
      "text/plain": [
       "[('dyer', 'William', 'Dyer'),\n",
       " ('pb', 'Frank', 'Pabodie'),\n",
       " ('lake', 'Anderson', 'Lake'),\n",
       " ('roe', 'Valentina', 'Roerich'),\n",
       " ('danforth', 'Frank', 'Danforth')]"
      ]
     },
     "execution_count": 8,
     "metadata": {},
     "output_type": "execute_result"
    }
   ],
   "source": [
    "%%sql\n",
    "SELECT * FROM person;"
   ]
  },
  {
   "cell_type": "code",
   "execution_count": 9,
   "metadata": {
    "collapsed": true
   },
   "outputs": [
    {
     "name": "stdout",
     "output_type": "stream",
     "text": [
      " * sqlite:///survey.db\n",
      "Done.\n"
     ]
    },
    {
     "data": {
      "text/html": [
       "<table>\n",
       "    <tr>\n",
       "        <th>name</th>\n",
       "        <th>lat</th>\n",
       "        <th>long</th>\n",
       "    </tr>\n",
       "    <tr>\n",
       "        <td>DR-1</td>\n",
       "        <td>-49.85</td>\n",
       "        <td>-128.57</td>\n",
       "    </tr>\n",
       "    <tr>\n",
       "        <td>DR-3</td>\n",
       "        <td>-47.15</td>\n",
       "        <td>-126.72</td>\n",
       "    </tr>\n",
       "    <tr>\n",
       "        <td>MSK-4</td>\n",
       "        <td>-48.87</td>\n",
       "        <td>-123.4</td>\n",
       "    </tr>\n",
       "</table>"
      ],
      "text/plain": [
       "[('DR-1', -49.85, -128.57),\n",
       " ('DR-3', -47.15, -126.72),\n",
       " ('MSK-4', -48.87, -123.4)]"
      ]
     },
     "execution_count": 9,
     "metadata": {},
     "output_type": "execute_result"
    }
   ],
   "source": [
    "%%sql\n",
    "SELECT * FROM Site;"
   ]
  },
  {
   "cell_type": "code",
   "execution_count": 10,
   "metadata": {
    "collapsed": true
   },
   "outputs": [
    {
     "name": "stdout",
     "output_type": "stream",
     "text": [
      " * sqlite:///survey.db\n",
      "Done.\n"
     ]
    },
    {
     "data": {
      "text/html": [
       "<table>\n",
       "    <tr>\n",
       "        <th>ident</th>\n",
       "        <th>site</th>\n",
       "        <th>dated</th>\n",
       "    </tr>\n",
       "    <tr>\n",
       "        <td>619</td>\n",
       "        <td>DR-1</td>\n",
       "        <td>1927-02-08</td>\n",
       "    </tr>\n",
       "    <tr>\n",
       "        <td>622</td>\n",
       "        <td>DR-1</td>\n",
       "        <td>1927-02-10</td>\n",
       "    </tr>\n",
       "    <tr>\n",
       "        <td>734</td>\n",
       "        <td>DR-3</td>\n",
       "        <td>1939-01-07</td>\n",
       "    </tr>\n",
       "    <tr>\n",
       "        <td>735</td>\n",
       "        <td>DR-3</td>\n",
       "        <td>1930-01-12</td>\n",
       "    </tr>\n",
       "    <tr>\n",
       "        <td>751</td>\n",
       "        <td>DR-3</td>\n",
       "        <td>1930-02-26</td>\n",
       "    </tr>\n",
       "    <tr>\n",
       "        <td>752</td>\n",
       "        <td>DR-3</td>\n",
       "        <td>None</td>\n",
       "    </tr>\n",
       "    <tr>\n",
       "        <td>837</td>\n",
       "        <td>MSK-4</td>\n",
       "        <td>1932-01-14</td>\n",
       "    </tr>\n",
       "    <tr>\n",
       "        <td>844</td>\n",
       "        <td>DR-1</td>\n",
       "        <td>1932-03-22</td>\n",
       "    </tr>\n",
       "</table>"
      ],
      "text/plain": [
       "[(619, 'DR-1', '1927-02-08'),\n",
       " (622, 'DR-1', '1927-02-10'),\n",
       " (734, 'DR-3', '1939-01-07'),\n",
       " (735, 'DR-3', '1930-01-12'),\n",
       " (751, 'DR-3', '1930-02-26'),\n",
       " (752, 'DR-3', None),\n",
       " (837, 'MSK-4', '1932-01-14'),\n",
       " (844, 'DR-1', '1932-03-22')]"
      ]
     },
     "execution_count": 10,
     "metadata": {},
     "output_type": "execute_result"
    }
   ],
   "source": [
    "%%sql\n",
    "SELECT * FROM Visited;"
   ]
  },
  {
   "cell_type": "code",
   "execution_count": 11,
   "metadata": {
    "collapsed": true
   },
   "outputs": [
    {
     "name": "stdout",
     "output_type": "stream",
     "text": [
      " * sqlite:///survey.db\n",
      "Done.\n"
     ]
    },
    {
     "data": {
      "text/html": [
       "<table>\n",
       "    <tr>\n",
       "        <th>taken</th>\n",
       "        <th>person</th>\n",
       "        <th>quant</th>\n",
       "        <th>reading</th>\n",
       "    </tr>\n",
       "    <tr>\n",
       "        <td>619</td>\n",
       "        <td>dyer</td>\n",
       "        <td>rad</td>\n",
       "        <td>9.82</td>\n",
       "    </tr>\n",
       "    <tr>\n",
       "        <td>619</td>\n",
       "        <td>dyer</td>\n",
       "        <td>sal</td>\n",
       "        <td>0.13</td>\n",
       "    </tr>\n",
       "    <tr>\n",
       "        <td>622</td>\n",
       "        <td>dyer</td>\n",
       "        <td>rad</td>\n",
       "        <td>7.8</td>\n",
       "    </tr>\n",
       "    <tr>\n",
       "        <td>622</td>\n",
       "        <td>dyer</td>\n",
       "        <td>sal</td>\n",
       "        <td>0.09</td>\n",
       "    </tr>\n",
       "    <tr>\n",
       "        <td>734</td>\n",
       "        <td>pb</td>\n",
       "        <td>rad</td>\n",
       "        <td>8.41</td>\n",
       "    </tr>\n",
       "    <tr>\n",
       "        <td>734</td>\n",
       "        <td>lake</td>\n",
       "        <td>sal</td>\n",
       "        <td>0.05</td>\n",
       "    </tr>\n",
       "    <tr>\n",
       "        <td>734</td>\n",
       "        <td>pb</td>\n",
       "        <td>temp</td>\n",
       "        <td>-21.5</td>\n",
       "    </tr>\n",
       "    <tr>\n",
       "        <td>735</td>\n",
       "        <td>pb</td>\n",
       "        <td>rad</td>\n",
       "        <td>7.22</td>\n",
       "    </tr>\n",
       "    <tr>\n",
       "        <td>735</td>\n",
       "        <td>None</td>\n",
       "        <td>sal</td>\n",
       "        <td>0.06</td>\n",
       "    </tr>\n",
       "    <tr>\n",
       "        <td>735</td>\n",
       "        <td>None</td>\n",
       "        <td>temp</td>\n",
       "        <td>-26.0</td>\n",
       "    </tr>\n",
       "    <tr>\n",
       "        <td>751</td>\n",
       "        <td>pb</td>\n",
       "        <td>rad</td>\n",
       "        <td>4.35</td>\n",
       "    </tr>\n",
       "    <tr>\n",
       "        <td>751</td>\n",
       "        <td>pb</td>\n",
       "        <td>temp</td>\n",
       "        <td>-18.5</td>\n",
       "    </tr>\n",
       "    <tr>\n",
       "        <td>751</td>\n",
       "        <td>lake</td>\n",
       "        <td>sal</td>\n",
       "        <td>0.1</td>\n",
       "    </tr>\n",
       "    <tr>\n",
       "        <td>752</td>\n",
       "        <td>lake</td>\n",
       "        <td>rad</td>\n",
       "        <td>2.19</td>\n",
       "    </tr>\n",
       "    <tr>\n",
       "        <td>752</td>\n",
       "        <td>lake</td>\n",
       "        <td>sal</td>\n",
       "        <td>0.09</td>\n",
       "    </tr>\n",
       "    <tr>\n",
       "        <td>752</td>\n",
       "        <td>lake</td>\n",
       "        <td>temp</td>\n",
       "        <td>-16.0</td>\n",
       "    </tr>\n",
       "    <tr>\n",
       "        <td>752</td>\n",
       "        <td>roe</td>\n",
       "        <td>sal</td>\n",
       "        <td>41.6</td>\n",
       "    </tr>\n",
       "    <tr>\n",
       "        <td>837</td>\n",
       "        <td>lake</td>\n",
       "        <td>rad</td>\n",
       "        <td>1.46</td>\n",
       "    </tr>\n",
       "    <tr>\n",
       "        <td>837</td>\n",
       "        <td>lake</td>\n",
       "        <td>sal</td>\n",
       "        <td>0.21</td>\n",
       "    </tr>\n",
       "    <tr>\n",
       "        <td>837</td>\n",
       "        <td>roe</td>\n",
       "        <td>sal</td>\n",
       "        <td>22.5</td>\n",
       "    </tr>\n",
       "    <tr>\n",
       "        <td>844</td>\n",
       "        <td>roe</td>\n",
       "        <td>rad</td>\n",
       "        <td>11.25</td>\n",
       "    </tr>\n",
       "</table>"
      ],
      "text/plain": [
       "[(619, 'dyer', 'rad', 9.82),\n",
       " (619, 'dyer', 'sal', 0.13),\n",
       " (622, 'dyer', 'rad', 7.8),\n",
       " (622, 'dyer', 'sal', 0.09),\n",
       " (734, 'pb', 'rad', 8.41),\n",
       " (734, 'lake', 'sal', 0.05),\n",
       " (734, 'pb', 'temp', -21.5),\n",
       " (735, 'pb', 'rad', 7.22),\n",
       " (735, None, 'sal', 0.06),\n",
       " (735, None, 'temp', -26.0),\n",
       " (751, 'pb', 'rad', 4.35),\n",
       " (751, 'pb', 'temp', -18.5),\n",
       " (751, 'lake', 'sal', 0.1),\n",
       " (752, 'lake', 'rad', 2.19),\n",
       " (752, 'lake', 'sal', 0.09),\n",
       " (752, 'lake', 'temp', -16.0),\n",
       " (752, 'roe', 'sal', 41.6),\n",
       " (837, 'lake', 'rad', 1.46),\n",
       " (837, 'lake', 'sal', 0.21),\n",
       " (837, 'roe', 'sal', 22.5),\n",
       " (844, 'roe', 'rad', 11.25)]"
      ]
     },
     "execution_count": 11,
     "metadata": {},
     "output_type": "execute_result"
    }
   ],
   "source": [
    "%%sql\n",
    "SELECT * FROM Survey;"
   ]
  },
  {
   "cell_type": "markdown",
   "metadata": {},
   "source": [
    "Simple queries involve a projection of attributes and a product of relations (here just one relation):"
   ]
  },
  {
   "cell_type": "code",
   "execution_count": 17,
   "metadata": {
    "collapsed": true
   },
   "outputs": [
    {
     "name": "stdout",
     "output_type": "stream",
     "text": [
      " * sqlite:///survey.db\n",
      "Done.\n"
     ]
    },
    {
     "data": {
      "text/html": [
       "<table>\n",
       "    <tr>\n",
       "        <th>personal</th>\n",
       "        <th>family</th>\n",
       "    </tr>\n",
       "    <tr>\n",
       "        <td>William</td>\n",
       "        <td>Dyer</td>\n",
       "    </tr>\n",
       "    <tr>\n",
       "        <td>Frank</td>\n",
       "        <td>Pabodie</td>\n",
       "    </tr>\n",
       "    <tr>\n",
       "        <td>Anderson</td>\n",
       "        <td>Lake</td>\n",
       "    </tr>\n",
       "    <tr>\n",
       "        <td>Valentina</td>\n",
       "        <td>Roerich</td>\n",
       "    </tr>\n",
       "    <tr>\n",
       "        <td>Frank</td>\n",
       "        <td>Danforth</td>\n",
       "    </tr>\n",
       "</table>"
      ],
      "text/plain": [
       "[('William', 'Dyer'),\n",
       " ('Frank', 'Pabodie'),\n",
       " ('Anderson', 'Lake'),\n",
       " ('Valentina', 'Roerich'),\n",
       " ('Frank', 'Danforth')]"
      ]
     },
     "execution_count": 17,
     "metadata": {},
     "output_type": "execute_result"
    }
   ],
   "source": [
    "%%sql\n",
    "SELECT personal, family\n",
    "FROM Person"
   ]
  },
  {
   "cell_type": "markdown",
   "metadata": {},
   "source": [
    "Note that we can change the order of projected attributes:"
   ]
  },
  {
   "cell_type": "code",
   "execution_count": 13,
   "metadata": {
    "collapsed": true
   },
   "outputs": [
    {
     "name": "stdout",
     "output_type": "stream",
     "text": [
      " * sqlite:///survey.db\n",
      "Done.\n"
     ]
    },
    {
     "data": {
      "text/html": [
       "<table>\n",
       "    <tr>\n",
       "        <th>family</th>\n",
       "        <th>personal</th>\n",
       "    </tr>\n",
       "    <tr>\n",
       "        <td>Dyer</td>\n",
       "        <td>William</td>\n",
       "    </tr>\n",
       "    <tr>\n",
       "        <td>Pabodie</td>\n",
       "        <td>Frank</td>\n",
       "    </tr>\n",
       "    <tr>\n",
       "        <td>Lake</td>\n",
       "        <td>Anderson</td>\n",
       "    </tr>\n",
       "    <tr>\n",
       "        <td>Roerich</td>\n",
       "        <td>Valentina</td>\n",
       "    </tr>\n",
       "    <tr>\n",
       "        <td>Danforth</td>\n",
       "        <td>Frank</td>\n",
       "    </tr>\n",
       "</table>"
      ],
      "text/plain": [
       "[('Dyer', 'William'),\n",
       " ('Pabodie', 'Frank'),\n",
       " ('Lake', 'Anderson'),\n",
       " ('Roerich', 'Valentina'),\n",
       " ('Danforth', 'Frank')]"
      ]
     },
     "execution_count": 13,
     "metadata": {},
     "output_type": "execute_result"
    }
   ],
   "source": [
    "%%sql\n",
    "SELECT family, personal\n",
    "FROM Person"
   ]
  },
  {
   "cell_type": "markdown",
   "metadata": {},
   "source": [
    "### Handling duplicates\n",
    "\n",
    "Note that the `survey` table has a number of repeating values for the `quant` attribute."
   ]
  },
  {
   "cell_type": "code",
   "execution_count": 14,
   "metadata": {
    "collapsed": true
   },
   "outputs": [
    {
     "name": "stdout",
     "output_type": "stream",
     "text": [
      " * sqlite:///survey.db\n",
      "Done.\n"
     ]
    },
    {
     "data": {
      "text/html": [
       "<table>\n",
       "    <tr>\n",
       "        <th>quant</th>\n",
       "    </tr>\n",
       "    <tr>\n",
       "        <td>rad</td>\n",
       "    </tr>\n",
       "    <tr>\n",
       "        <td>sal</td>\n",
       "    </tr>\n",
       "    <tr>\n",
       "        <td>rad</td>\n",
       "    </tr>\n",
       "    <tr>\n",
       "        <td>sal</td>\n",
       "    </tr>\n",
       "    <tr>\n",
       "        <td>rad</td>\n",
       "    </tr>\n",
       "    <tr>\n",
       "        <td>sal</td>\n",
       "    </tr>\n",
       "    <tr>\n",
       "        <td>temp</td>\n",
       "    </tr>\n",
       "    <tr>\n",
       "        <td>rad</td>\n",
       "    </tr>\n",
       "    <tr>\n",
       "        <td>sal</td>\n",
       "    </tr>\n",
       "    <tr>\n",
       "        <td>temp</td>\n",
       "    </tr>\n",
       "    <tr>\n",
       "        <td>rad</td>\n",
       "    </tr>\n",
       "    <tr>\n",
       "        <td>temp</td>\n",
       "    </tr>\n",
       "    <tr>\n",
       "        <td>sal</td>\n",
       "    </tr>\n",
       "    <tr>\n",
       "        <td>rad</td>\n",
       "    </tr>\n",
       "    <tr>\n",
       "        <td>sal</td>\n",
       "    </tr>\n",
       "    <tr>\n",
       "        <td>temp</td>\n",
       "    </tr>\n",
       "    <tr>\n",
       "        <td>sal</td>\n",
       "    </tr>\n",
       "    <tr>\n",
       "        <td>rad</td>\n",
       "    </tr>\n",
       "    <tr>\n",
       "        <td>sal</td>\n",
       "    </tr>\n",
       "    <tr>\n",
       "        <td>sal</td>\n",
       "    </tr>\n",
       "    <tr>\n",
       "        <td>rad</td>\n",
       "    </tr>\n",
       "</table>"
      ],
      "text/plain": [
       "[('rad',),\n",
       " ('sal',),\n",
       " ('rad',),\n",
       " ('sal',),\n",
       " ('rad',),\n",
       " ('sal',),\n",
       " ('temp',),\n",
       " ('rad',),\n",
       " ('sal',),\n",
       " ('temp',),\n",
       " ('rad',),\n",
       " ('temp',),\n",
       " ('sal',),\n",
       " ('rad',),\n",
       " ('sal',),\n",
       " ('temp',),\n",
       " ('sal',),\n",
       " ('rad',),\n",
       " ('sal',),\n",
       " ('sal',),\n",
       " ('rad',)]"
      ]
     },
     "execution_count": 14,
     "metadata": {},
     "output_type": "execute_result"
    }
   ],
   "source": [
    "%%sql\n",
    "SELECT quant\n",
    "FROM survey"
   ]
  },
  {
   "cell_type": "markdown",
   "metadata": {},
   "source": [
    "By modifying our `SELECT` clause to use `DISTINCT quant` instead of just `quant`, we are assured of seeing each value only once."
   ]
  },
  {
   "cell_type": "code",
   "execution_count": 15,
   "metadata": {
    "collapsed": true
   },
   "outputs": [
    {
     "name": "stdout",
     "output_type": "stream",
     "text": [
      " * sqlite:///survey.db\n",
      "Done.\n"
     ]
    },
    {
     "data": {
      "text/html": [
       "<table>\n",
       "    <tr>\n",
       "        <th>quant</th>\n",
       "    </tr>\n",
       "    <tr>\n",
       "        <td>rad</td>\n",
       "    </tr>\n",
       "    <tr>\n",
       "        <td>sal</td>\n",
       "    </tr>\n",
       "    <tr>\n",
       "        <td>temp</td>\n",
       "    </tr>\n",
       "</table>"
      ],
      "text/plain": [
       "[('rad',), ('sal',), ('temp',)]"
      ]
     },
     "execution_count": 15,
     "metadata": {},
     "output_type": "execute_result"
    }
   ],
   "source": [
    "%%sql\n",
    "SELECT DISTINCT quant\n",
    "FROM Survey"
   ]
  },
  {
   "cell_type": "markdown",
   "metadata": {},
   "source": [
    "They are radiation, salinity and temperature respectively. \n",
    "\n",
    "We can use `DISTINCT` on multiple attributes too."
   ]
  },
  {
   "cell_type": "code",
   "execution_count": 20,
   "metadata": {
    "collapsed": true
   },
   "outputs": [
    {
     "name": "stdout",
     "output_type": "stream",
     "text": [
      " * sqlite:///survey.db\n",
      "Done.\n"
     ]
    },
    {
     "data": {
      "text/html": [
       "<table>\n",
       "    <tr>\n",
       "        <th>quant</th>\n",
       "        <th>person</th>\n",
       "    </tr>\n",
       "    <tr>\n",
       "        <td>rad</td>\n",
       "        <td>dyer</td>\n",
       "    </tr>\n",
       "    <tr>\n",
       "        <td>sal</td>\n",
       "        <td>dyer</td>\n",
       "    </tr>\n",
       "    <tr>\n",
       "        <td>rad</td>\n",
       "        <td>pb</td>\n",
       "    </tr>\n",
       "    <tr>\n",
       "        <td>sal</td>\n",
       "        <td>lake</td>\n",
       "    </tr>\n",
       "    <tr>\n",
       "        <td>temp</td>\n",
       "        <td>pb</td>\n",
       "    </tr>\n",
       "    <tr>\n",
       "        <td>sal</td>\n",
       "        <td>None</td>\n",
       "    </tr>\n",
       "    <tr>\n",
       "        <td>temp</td>\n",
       "        <td>None</td>\n",
       "    </tr>\n",
       "    <tr>\n",
       "        <td>rad</td>\n",
       "        <td>lake</td>\n",
       "    </tr>\n",
       "    <tr>\n",
       "        <td>temp</td>\n",
       "        <td>lake</td>\n",
       "    </tr>\n",
       "    <tr>\n",
       "        <td>sal</td>\n",
       "        <td>roe</td>\n",
       "    </tr>\n",
       "    <tr>\n",
       "        <td>rad</td>\n",
       "        <td>roe</td>\n",
       "    </tr>\n",
       "</table>"
      ],
      "text/plain": [
       "[('rad', 'dyer'),\n",
       " ('sal', 'dyer'),\n",
       " ('rad', 'pb'),\n",
       " ('sal', 'lake'),\n",
       " ('temp', 'pb'),\n",
       " ('sal', None),\n",
       " ('temp', None),\n",
       " ('rad', 'lake'),\n",
       " ('temp', 'lake'),\n",
       " ('sal', 'roe'),\n",
       " ('rad', 'roe')]"
      ]
     },
     "execution_count": 20,
     "metadata": {},
     "output_type": "execute_result"
    }
   ],
   "source": [
    "%%sql\n",
    "SELECT DISTINCT quant, person \n",
    "FROM Survey;"
   ]
  },
  {
   "cell_type": "markdown",
   "metadata": {},
   "source": [
    "We can change the ordering of the resulting relation. Ordering is `ASC`ending by default; `DESC`ending is also easily specified, and each attribute can use either."
   ]
  },
  {
   "cell_type": "code",
   "execution_count": 24,
   "metadata": {},
   "outputs": [
    {
     "name": "stdout",
     "output_type": "stream",
     "text": [
      " * sqlite:///survey.db\n",
      "Done.\n"
     ]
    },
    {
     "data": {
      "text/html": [
       "<table>\n",
       "    <tr>\n",
       "        <th>Person</th>\n",
       "        <th>old_reading</th>\n",
       "        <th>new reading</th>\n",
       "    </tr>\n",
       "    <tr>\n",
       "        <td>dyer</td>\n",
       "        <td>9.82</td>\n",
       "        <td>10.82</td>\n",
       "    </tr>\n",
       "    <tr>\n",
       "        <td>dyer</td>\n",
       "        <td>0.13</td>\n",
       "        <td>1.13</td>\n",
       "    </tr>\n",
       "    <tr>\n",
       "        <td>dyer</td>\n",
       "        <td>7.8</td>\n",
       "        <td>8.8</td>\n",
       "    </tr>\n",
       "    <tr>\n",
       "        <td>dyer</td>\n",
       "        <td>0.09</td>\n",
       "        <td>1.09</td>\n",
       "    </tr>\n",
       "    <tr>\n",
       "        <td>pb</td>\n",
       "        <td>8.41</td>\n",
       "        <td>9.41</td>\n",
       "    </tr>\n",
       "    <tr>\n",
       "        <td>lake</td>\n",
       "        <td>0.05</td>\n",
       "        <td>1.05</td>\n",
       "    </tr>\n",
       "    <tr>\n",
       "        <td>pb</td>\n",
       "        <td>-21.5</td>\n",
       "        <td>-20.5</td>\n",
       "    </tr>\n",
       "    <tr>\n",
       "        <td>pb</td>\n",
       "        <td>7.22</td>\n",
       "        <td>8.219999999999999</td>\n",
       "    </tr>\n",
       "    <tr>\n",
       "        <td>None</td>\n",
       "        <td>0.06</td>\n",
       "        <td>1.06</td>\n",
       "    </tr>\n",
       "    <tr>\n",
       "        <td>None</td>\n",
       "        <td>-26.0</td>\n",
       "        <td>-25.0</td>\n",
       "    </tr>\n",
       "    <tr>\n",
       "        <td>pb</td>\n",
       "        <td>4.35</td>\n",
       "        <td>5.35</td>\n",
       "    </tr>\n",
       "    <tr>\n",
       "        <td>pb</td>\n",
       "        <td>-18.5</td>\n",
       "        <td>-17.5</td>\n",
       "    </tr>\n",
       "    <tr>\n",
       "        <td>lake</td>\n",
       "        <td>0.1</td>\n",
       "        <td>1.1</td>\n",
       "    </tr>\n",
       "    <tr>\n",
       "        <td>lake</td>\n",
       "        <td>2.19</td>\n",
       "        <td>3.19</td>\n",
       "    </tr>\n",
       "    <tr>\n",
       "        <td>lake</td>\n",
       "        <td>0.09</td>\n",
       "        <td>1.09</td>\n",
       "    </tr>\n",
       "    <tr>\n",
       "        <td>lake</td>\n",
       "        <td>-16.0</td>\n",
       "        <td>-15.0</td>\n",
       "    </tr>\n",
       "    <tr>\n",
       "        <td>roe</td>\n",
       "        <td>41.6</td>\n",
       "        <td>42.6</td>\n",
       "    </tr>\n",
       "    <tr>\n",
       "        <td>lake</td>\n",
       "        <td>1.46</td>\n",
       "        <td>2.46</td>\n",
       "    </tr>\n",
       "    <tr>\n",
       "        <td>lake</td>\n",
       "        <td>0.21</td>\n",
       "        <td>1.21</td>\n",
       "    </tr>\n",
       "    <tr>\n",
       "        <td>roe</td>\n",
       "        <td>22.5</td>\n",
       "        <td>23.5</td>\n",
       "    </tr>\n",
       "    <tr>\n",
       "        <td>roe</td>\n",
       "        <td>11.25</td>\n",
       "        <td>12.25</td>\n",
       "    </tr>\n",
       "</table>"
      ],
      "text/plain": [
       "[('dyer', 9.82, 10.82),\n",
       " ('dyer', 0.13, 1.13),\n",
       " ('dyer', 7.8, 8.8),\n",
       " ('dyer', 0.09, 1.09),\n",
       " ('pb', 8.41, 9.41),\n",
       " ('lake', 0.05, 1.05),\n",
       " ('pb', -21.5, -20.5),\n",
       " ('pb', 7.22, 8.219999999999999),\n",
       " (None, 0.06, 1.06),\n",
       " (None, -26.0, -25.0),\n",
       " ('pb', 4.35, 5.35),\n",
       " ('pb', -18.5, -17.5),\n",
       " ('lake', 0.1, 1.1),\n",
       " ('lake', 2.19, 3.19),\n",
       " ('lake', 0.09, 1.09),\n",
       " ('lake', -16.0, -15.0),\n",
       " ('roe', 41.6, 42.6),\n",
       " ('lake', 1.46, 2.46),\n",
       " ('lake', 0.21, 1.21),\n",
       " ('roe', 22.5, 23.5),\n",
       " ('roe', 11.25, 12.25)]"
      ]
     },
     "execution_count": 24,
     "metadata": {},
     "output_type": "execute_result"
    }
   ],
   "source": [
    "%%sql\n",
    "SELECT person Person, reading as old_reading, reading+1  as \"new reading\"\n",
    "FROM Survey;"
   ]
  },
  {
   "cell_type": "code",
   "execution_count": 19,
   "metadata": {
    "collapsed": true
   },
   "outputs": [
    {
     "name": "stdout",
     "output_type": "stream",
     "text": [
      " * sqlite:///survey.db\n",
      "Done.\n"
     ]
    },
    {
     "data": {
      "text/html": [
       "<table>\n",
       "    <tr>\n",
       "        <th>taken</th>\n",
       "        <th>person</th>\n",
       "        <th>quant</th>\n",
       "    </tr>\n",
       "    <tr>\n",
       "        <td>619</td>\n",
       "        <td>dyer</td>\n",
       "        <td>rad</td>\n",
       "    </tr>\n",
       "    <tr>\n",
       "        <td>619</td>\n",
       "        <td>dyer</td>\n",
       "        <td>sal</td>\n",
       "    </tr>\n",
       "    <tr>\n",
       "        <td>622</td>\n",
       "        <td>dyer</td>\n",
       "        <td>rad</td>\n",
       "    </tr>\n",
       "    <tr>\n",
       "        <td>622</td>\n",
       "        <td>dyer</td>\n",
       "        <td>sal</td>\n",
       "    </tr>\n",
       "    <tr>\n",
       "        <td>734</td>\n",
       "        <td>pb</td>\n",
       "        <td>rad</td>\n",
       "    </tr>\n",
       "    <tr>\n",
       "        <td>734</td>\n",
       "        <td>pb</td>\n",
       "        <td>temp</td>\n",
       "    </tr>\n",
       "    <tr>\n",
       "        <td>734</td>\n",
       "        <td>lake</td>\n",
       "        <td>sal</td>\n",
       "    </tr>\n",
       "    <tr>\n",
       "        <td>735</td>\n",
       "        <td>pb</td>\n",
       "        <td>rad</td>\n",
       "    </tr>\n",
       "    <tr>\n",
       "        <td>735</td>\n",
       "        <td>None</td>\n",
       "        <td>sal</td>\n",
       "    </tr>\n",
       "    <tr>\n",
       "        <td>735</td>\n",
       "        <td>None</td>\n",
       "        <td>temp</td>\n",
       "    </tr>\n",
       "    <tr>\n",
       "        <td>751</td>\n",
       "        <td>pb</td>\n",
       "        <td>rad</td>\n",
       "    </tr>\n",
       "    <tr>\n",
       "        <td>751</td>\n",
       "        <td>pb</td>\n",
       "        <td>temp</td>\n",
       "    </tr>\n",
       "    <tr>\n",
       "        <td>751</td>\n",
       "        <td>lake</td>\n",
       "        <td>sal</td>\n",
       "    </tr>\n",
       "    <tr>\n",
       "        <td>752</td>\n",
       "        <td>roe</td>\n",
       "        <td>sal</td>\n",
       "    </tr>\n",
       "    <tr>\n",
       "        <td>752</td>\n",
       "        <td>lake</td>\n",
       "        <td>rad</td>\n",
       "    </tr>\n",
       "    <tr>\n",
       "        <td>752</td>\n",
       "        <td>lake</td>\n",
       "        <td>sal</td>\n",
       "    </tr>\n",
       "    <tr>\n",
       "        <td>752</td>\n",
       "        <td>lake</td>\n",
       "        <td>temp</td>\n",
       "    </tr>\n",
       "    <tr>\n",
       "        <td>837</td>\n",
       "        <td>roe</td>\n",
       "        <td>sal</td>\n",
       "    </tr>\n",
       "    <tr>\n",
       "        <td>837</td>\n",
       "        <td>lake</td>\n",
       "        <td>rad</td>\n",
       "    </tr>\n",
       "    <tr>\n",
       "        <td>837</td>\n",
       "        <td>lake</td>\n",
       "        <td>sal</td>\n",
       "    </tr>\n",
       "    <tr>\n",
       "        <td>844</td>\n",
       "        <td>roe</td>\n",
       "        <td>rad</td>\n",
       "    </tr>\n",
       "</table>"
      ],
      "text/plain": [
       "[(619, 'dyer', 'rad'),\n",
       " (619, 'dyer', 'sal'),\n",
       " (622, 'dyer', 'rad'),\n",
       " (622, 'dyer', 'sal'),\n",
       " (734, 'pb', 'rad'),\n",
       " (734, 'pb', 'temp'),\n",
       " (734, 'lake', 'sal'),\n",
       " (735, 'pb', 'rad'),\n",
       " (735, None, 'sal'),\n",
       " (735, None, 'temp'),\n",
       " (751, 'pb', 'rad'),\n",
       " (751, 'pb', 'temp'),\n",
       " (751, 'lake', 'sal'),\n",
       " (752, 'roe', 'sal'),\n",
       " (752, 'lake', 'rad'),\n",
       " (752, 'lake', 'sal'),\n",
       " (752, 'lake', 'temp'),\n",
       " (837, 'roe', 'sal'),\n",
       " (837, 'lake', 'rad'),\n",
       " (837, 'lake', 'sal'),\n",
       " (844, 'roe', 'rad')]"
      ]
     },
     "execution_count": 19,
     "metadata": {},
     "output_type": "execute_result"
    }
   ],
   "source": [
    "%%sql\n",
    "SELECT taken, person, quant\n",
    "FROM Survey \n",
    "ORDER BY taken ASC, person DESC;"
   ]
  },
  {
   "cell_type": "markdown",
   "metadata": {},
   "source": [
    "## Filtering: WHERE"
   ]
  },
  {
   "cell_type": "markdown",
   "metadata": {},
   "source": [
    "Though it might sound confusing, the `WHERE` clause in SQL queries implements the selection operation."
   ]
  },
  {
   "cell_type": "code",
   "execution_count": null,
   "metadata": {
    "collapsed": true
   },
   "outputs": [],
   "source": [
    "%%sql\n",
    "SELECT * \n",
    "FROM Visited\n",
    "WHERE site='DR-1'"
   ]
  },
  {
   "cell_type": "markdown",
   "metadata": {},
   "source": [
    "Above the `site` attribute is included implicitly with `*`; here we project it explicitly."
   ]
  },
  {
   "cell_type": "code",
   "execution_count": null,
   "metadata": {
    "collapsed": true
   },
   "outputs": [],
   "source": [
    "%%sql\n",
    "SELECT ident \n",
    "FROM Visited \n",
    "WHERE site='DR-1';"
   ]
  },
  {
   "cell_type": "markdown",
   "metadata": {},
   "source": [
    "Keep in mind the broader picture of what's happening here.  The following image, from the SW Carpentry lessons, illustrates the above query in terms of its fundamental select and project operations."
   ]
  },
  {
   "cell_type": "code",
   "execution_count": 25,
   "metadata": {
    "collapsed": true
   },
   "outputs": [
    {
     "data": {
      "text/html": [
       "<img src=\"http://swcarpentry.github.io/sql-novice-survey/fig/sql-filter.svg\"/>"
      ],
      "text/plain": [
       "<IPython.core.display.Image object>"
      ]
     },
     "execution_count": 25,
     "metadata": {},
     "output_type": "execute_result"
    }
   ],
   "source": [
    "from IPython.display import Image\n",
    "Image(url=\"http://swcarpentry.github.io/sql-novice-survey/fig/sql-filter.svg\")"
   ]
  },
  {
   "cell_type": "markdown",
   "metadata": {},
   "source": [
    "In selections, we can use boolean operators like `OR` and `AND` to combine conditions logically."
   ]
  },
  {
   "cell_type": "code",
   "execution_count": 26,
   "metadata": {
    "collapsed": true
   },
   "outputs": [
    {
     "name": "stdout",
     "output_type": "stream",
     "text": [
      " * sqlite:///survey.db\n",
      "Done.\n"
     ]
    },
    {
     "data": {
      "text/html": [
       "<table>\n",
       "    <tr>\n",
       "        <th>taken</th>\n",
       "        <th>person</th>\n",
       "        <th>quant</th>\n",
       "        <th>reading</th>\n",
       "    </tr>\n",
       "    <tr>\n",
       "        <td>734</td>\n",
       "        <td>lake</td>\n",
       "        <td>sal</td>\n",
       "        <td>0.05</td>\n",
       "    </tr>\n",
       "    <tr>\n",
       "        <td>751</td>\n",
       "        <td>lake</td>\n",
       "        <td>sal</td>\n",
       "        <td>0.1</td>\n",
       "    </tr>\n",
       "    <tr>\n",
       "        <td>752</td>\n",
       "        <td>lake</td>\n",
       "        <td>rad</td>\n",
       "        <td>2.19</td>\n",
       "    </tr>\n",
       "    <tr>\n",
       "        <td>752</td>\n",
       "        <td>lake</td>\n",
       "        <td>sal</td>\n",
       "        <td>0.09</td>\n",
       "    </tr>\n",
       "    <tr>\n",
       "        <td>752</td>\n",
       "        <td>lake</td>\n",
       "        <td>temp</td>\n",
       "        <td>-16.0</td>\n",
       "    </tr>\n",
       "    <tr>\n",
       "        <td>752</td>\n",
       "        <td>roe</td>\n",
       "        <td>sal</td>\n",
       "        <td>41.6</td>\n",
       "    </tr>\n",
       "    <tr>\n",
       "        <td>837</td>\n",
       "        <td>lake</td>\n",
       "        <td>rad</td>\n",
       "        <td>1.46</td>\n",
       "    </tr>\n",
       "    <tr>\n",
       "        <td>837</td>\n",
       "        <td>lake</td>\n",
       "        <td>sal</td>\n",
       "        <td>0.21</td>\n",
       "    </tr>\n",
       "    <tr>\n",
       "        <td>837</td>\n",
       "        <td>roe</td>\n",
       "        <td>sal</td>\n",
       "        <td>22.5</td>\n",
       "    </tr>\n",
       "    <tr>\n",
       "        <td>844</td>\n",
       "        <td>roe</td>\n",
       "        <td>rad</td>\n",
       "        <td>11.25</td>\n",
       "    </tr>\n",
       "</table>"
      ],
      "text/plain": [
       "[(734, 'lake', 'sal', 0.05),\n",
       " (751, 'lake', 'sal', 0.1),\n",
       " (752, 'lake', 'rad', 2.19),\n",
       " (752, 'lake', 'sal', 0.09),\n",
       " (752, 'lake', 'temp', -16.0),\n",
       " (752, 'roe', 'sal', 41.6),\n",
       " (837, 'lake', 'rad', 1.46),\n",
       " (837, 'lake', 'sal', 0.21),\n",
       " (837, 'roe', 'sal', 22.5),\n",
       " (844, 'roe', 'rad', 11.25)]"
      ]
     },
     "execution_count": 26,
     "metadata": {},
     "output_type": "execute_result"
    }
   ],
   "source": [
    "%%sql\n",
    "SELECT * \n",
    "FROM Survey \n",
    "WHERE person='lake' \n",
    "  OR person='roe'"
   ]
  },
  {
   "cell_type": "markdown",
   "metadata": {},
   "source": [
    "We can test set membership in selections as well."
   ]
  },
  {
   "cell_type": "markdown",
   "metadata": {},
   "source": [
    "These boolean operations can nest into complex expressions using parentheses."
   ]
  },
  {
   "cell_type": "code",
   "execution_count": 27,
   "metadata": {
    "collapsed": true
   },
   "outputs": [
    {
     "name": "stdout",
     "output_type": "stream",
     "text": [
      " * sqlite:///survey.db\n",
      "Done.\n"
     ]
    },
    {
     "data": {
      "text/html": [
       "<table>\n",
       "    <tr>\n",
       "        <th>taken</th>\n",
       "        <th>person</th>\n",
       "        <th>quant</th>\n",
       "        <th>reading</th>\n",
       "    </tr>\n",
       "    <tr>\n",
       "        <td>734</td>\n",
       "        <td>lake</td>\n",
       "        <td>sal</td>\n",
       "        <td>0.05</td>\n",
       "    </tr>\n",
       "    <tr>\n",
       "        <td>751</td>\n",
       "        <td>lake</td>\n",
       "        <td>sal</td>\n",
       "        <td>0.1</td>\n",
       "    </tr>\n",
       "    <tr>\n",
       "        <td>752</td>\n",
       "        <td>lake</td>\n",
       "        <td>sal</td>\n",
       "        <td>0.09</td>\n",
       "    </tr>\n",
       "    <tr>\n",
       "        <td>752</td>\n",
       "        <td>roe</td>\n",
       "        <td>sal</td>\n",
       "        <td>41.6</td>\n",
       "    </tr>\n",
       "    <tr>\n",
       "        <td>837</td>\n",
       "        <td>lake</td>\n",
       "        <td>sal</td>\n",
       "        <td>0.21</td>\n",
       "    </tr>\n",
       "    <tr>\n",
       "        <td>837</td>\n",
       "        <td>roe</td>\n",
       "        <td>sal</td>\n",
       "        <td>22.5</td>\n",
       "    </tr>\n",
       "</table>"
      ],
      "text/plain": [
       "[(734, 'lake', 'sal', 0.05),\n",
       " (751, 'lake', 'sal', 0.1),\n",
       " (752, 'lake', 'sal', 0.09),\n",
       " (752, 'roe', 'sal', 41.6),\n",
       " (837, 'lake', 'sal', 0.21),\n",
       " (837, 'roe', 'sal', 22.5)]"
      ]
     },
     "execution_count": 27,
     "metadata": {},
     "output_type": "execute_result"
    }
   ],
   "source": [
    "%%sql\n",
    "SELECT * \n",
    "FROM Survey \n",
    "WHERE quant='sal' \n",
    "  AND (person='lake' OR person='roe')"
   ]
  },
  {
   "cell_type": "markdown",
   "metadata": {},
   "source": [
    "Wildcards like `%` and `_` allow matching of substrings or single characters."
   ]
  },
  {
   "cell_type": "code",
   "execution_count": 28,
   "metadata": {
    "collapsed": true
   },
   "outputs": [
    {
     "name": "stdout",
     "output_type": "stream",
     "text": [
      " * sqlite:///survey.db\n",
      "Done.\n"
     ]
    },
    {
     "data": {
      "text/html": [
       "<table>\n",
       "    <tr>\n",
       "        <th>ident</th>\n",
       "        <th>site</th>\n",
       "        <th>dated</th>\n",
       "    </tr>\n",
       "    <tr>\n",
       "        <td>619</td>\n",
       "        <td>DR-1</td>\n",
       "        <td>1927-02-08</td>\n",
       "    </tr>\n",
       "    <tr>\n",
       "        <td>622</td>\n",
       "        <td>DR-1</td>\n",
       "        <td>1927-02-10</td>\n",
       "    </tr>\n",
       "    <tr>\n",
       "        <td>734</td>\n",
       "        <td>DR-3</td>\n",
       "        <td>1939-01-07</td>\n",
       "    </tr>\n",
       "    <tr>\n",
       "        <td>735</td>\n",
       "        <td>DR-3</td>\n",
       "        <td>1930-01-12</td>\n",
       "    </tr>\n",
       "    <tr>\n",
       "        <td>751</td>\n",
       "        <td>DR-3</td>\n",
       "        <td>1930-02-26</td>\n",
       "    </tr>\n",
       "    <tr>\n",
       "        <td>752</td>\n",
       "        <td>DR-3</td>\n",
       "        <td>None</td>\n",
       "    </tr>\n",
       "    <tr>\n",
       "        <td>844</td>\n",
       "        <td>DR-1</td>\n",
       "        <td>1932-03-22</td>\n",
       "    </tr>\n",
       "</table>"
      ],
      "text/plain": [
       "[(619, 'DR-1', '1927-02-08'),\n",
       " (622, 'DR-1', '1927-02-10'),\n",
       " (734, 'DR-3', '1939-01-07'),\n",
       " (735, 'DR-3', '1930-01-12'),\n",
       " (751, 'DR-3', '1930-02-26'),\n",
       " (752, 'DR-3', None),\n",
       " (844, 'DR-1', '1932-03-22')]"
      ]
     },
     "execution_count": 28,
     "metadata": {},
     "output_type": "execute_result"
    }
   ],
   "source": [
    "%%sql\n",
    "SELECT * \n",
    "FROM Visited\n",
    "WHERE site LIKE 'DR%';"
   ]
  },
  {
   "cell_type": "markdown",
   "metadata": {},
   "source": [
    "We can start to put all of these together."
   ]
  },
  {
   "cell_type": "code",
   "execution_count": 29,
   "metadata": {
    "collapsed": true
   },
   "outputs": [
    {
     "name": "stdout",
     "output_type": "stream",
     "text": [
      " * sqlite:///survey.db\n",
      "Done.\n"
     ]
    },
    {
     "data": {
      "text/html": [
       "<table>\n",
       "    <tr>\n",
       "        <th>person</th>\n",
       "        <th>quant</th>\n",
       "    </tr>\n",
       "    <tr>\n",
       "        <td>lake</td>\n",
       "        <td>sal</td>\n",
       "    </tr>\n",
       "    <tr>\n",
       "        <td>lake</td>\n",
       "        <td>rad</td>\n",
       "    </tr>\n",
       "    <tr>\n",
       "        <td>lake</td>\n",
       "        <td>temp</td>\n",
       "    </tr>\n",
       "    <tr>\n",
       "        <td>roe</td>\n",
       "        <td>sal</td>\n",
       "    </tr>\n",
       "    <tr>\n",
       "        <td>roe</td>\n",
       "        <td>rad</td>\n",
       "    </tr>\n",
       "</table>"
      ],
      "text/plain": [
       "[('lake', 'sal'),\n",
       " ('lake', 'rad'),\n",
       " ('lake', 'temp'),\n",
       " ('roe', 'sal'),\n",
       " ('roe', 'rad')]"
      ]
     },
     "execution_count": 29,
     "metadata": {},
     "output_type": "execute_result"
    }
   ],
   "source": [
    "%%sql\n",
    "SELECT DISTINCT person, quant \n",
    "FROM Survey \n",
    "WHERE person='lake' \n",
    "   OR person='roe';"
   ]
  },
  {
   "cell_type": "markdown",
   "metadata": {},
   "source": [
    "Mathematical transformations are easy to compute on projected attributes.  Note also that we are here renaming an attribute with `AS`, creating a new alias."
   ]
  },
  {
   "cell_type": "code",
   "execution_count": 30,
   "metadata": {
    "collapsed": true
   },
   "outputs": [
    {
     "name": "stdout",
     "output_type": "stream",
     "text": [
      " * sqlite:///survey.db\n",
      "Done.\n"
     ]
    },
    {
     "data": {
      "text/html": [
       "<table>\n",
       "    <tr>\n",
       "        <th>reading</th>\n",
       "        <th>reading_multiplied</th>\n",
       "    </tr>\n",
       "    <tr>\n",
       "        <td>9.82</td>\n",
       "        <td>10.311</td>\n",
       "    </tr>\n",
       "    <tr>\n",
       "        <td>7.8</td>\n",
       "        <td>8.19</td>\n",
       "    </tr>\n",
       "    <tr>\n",
       "        <td>8.41</td>\n",
       "        <td>8.8305</td>\n",
       "    </tr>\n",
       "    <tr>\n",
       "        <td>7.22</td>\n",
       "        <td>7.581</td>\n",
       "    </tr>\n",
       "    <tr>\n",
       "        <td>4.35</td>\n",
       "        <td>4.5675</td>\n",
       "    </tr>\n",
       "    <tr>\n",
       "        <td>2.19</td>\n",
       "        <td>2.2995</td>\n",
       "    </tr>\n",
       "    <tr>\n",
       "        <td>1.46</td>\n",
       "        <td>1.533</td>\n",
       "    </tr>\n",
       "    <tr>\n",
       "        <td>11.25</td>\n",
       "        <td>11.8125</td>\n",
       "    </tr>\n",
       "</table>"
      ],
      "text/plain": [
       "[(9.82, 10.311),\n",
       " (7.8, 8.19),\n",
       " (8.41, 8.8305),\n",
       " (7.22, 7.581),\n",
       " (4.35, 4.5675),\n",
       " (2.19, 2.2995),\n",
       " (1.46, 1.533),\n",
       " (11.25, 11.8125)]"
      ]
     },
     "execution_count": 30,
     "metadata": {},
     "output_type": "execute_result"
    }
   ],
   "source": [
    "%%sql\n",
    "SELECT reading, 1.05 * reading AS reading_multiplied\n",
    "FROM Survey \n",
    "WHERE quant='rad'"
   ]
  },
  {
   "cell_type": "markdown",
   "metadata": {},
   "source": [
    "Sometimes we do this for convenience or clarity."
   ]
  },
  {
   "cell_type": "code",
   "execution_count": null,
   "metadata": {
    "collapsed": true
   },
   "outputs": [],
   "source": [
    "%%sql\n",
    "SELECT taken, reading AS reading_fahrenheit, round(5*(reading-32)/9, 2) AS reading_celsius\n",
    "FROM Survey \n",
    "WHERE quant='temp'"
   ]
  },
  {
   "cell_type": "markdown",
   "metadata": {},
   "source": [
    "Sometimes we even do this to make data redundant for clarity.  Here `||` is a concatenation operator."
   ]
  },
  {
   "cell_type": "code",
   "execution_count": null,
   "metadata": {
    "collapsed": true
   },
   "outputs": [],
   "source": [
    "%%sql\n",
    "SELECT personal || ' ' || family AS full_name, personal, family\n",
    "FROM Person\n",
    "ORDER BY family, personal"
   ]
  },
  {
   "cell_type": "markdown",
   "metadata": {},
   "source": [
    "We can combine two relations with `UNION`."
   ]
  },
  {
   "cell_type": "code",
   "execution_count": null,
   "metadata": {
    "collapsed": true
   },
   "outputs": [],
   "source": [
    "%%sql\n",
    "SELECT * \n",
    "FROM Person \n",
    "WHERE ident='dyer' \n",
    "\n",
    "UNION \n",
    "\n",
    "SELECT * \n",
    "FROM Person \n",
    "WHERE ident='roe'"
   ]
  },
  {
   "cell_type": "markdown",
   "metadata": {},
   "source": [
    "## NULL values\n",
    "\n",
    "NULLs can be confusing but they have important qualities to remember."
   ]
  },
  {
   "cell_type": "code",
   "execution_count": null,
   "metadata": {
    "collapsed": true
   },
   "outputs": [],
   "source": [
    "%%sql\n",
    "SELECT * \n",
    "FROM Visited"
   ]
  },
  {
   "cell_type": "markdown",
   "metadata": {},
   "source": [
    "Above we see `NULL` represented as `None` in the sqlite3 relation output.\n",
    "\n",
    "Comparisons with NULL are NULL; thus boolean operations like the following will not match any NULL values."
   ]
  },
  {
   "cell_type": "code",
   "execution_count": null,
   "metadata": {
    "collapsed": true
   },
   "outputs": [],
   "source": [
    "%%sql\n",
    "SELECT * \n",
    "FROM Visited\n",
    "WHERE dated < '1930-01-01'\n",
    "  OR dated >= '1930-01-01'"
   ]
  },
  {
   "cell_type": "code",
   "execution_count": 31,
   "metadata": {
    "collapsed": true
   },
   "outputs": [
    {
     "name": "stdout",
     "output_type": "stream",
     "text": [
      " * sqlite:///survey.db\n",
      "Done.\n"
     ]
    },
    {
     "data": {
      "text/html": [
       "<table>\n",
       "    <tr>\n",
       "        <th>ident</th>\n",
       "        <th>site</th>\n",
       "        <th>dated</th>\n",
       "    </tr>\n",
       "</table>"
      ],
      "text/plain": [
       "[]"
      ]
     },
     "execution_count": 31,
     "metadata": {},
     "output_type": "execute_result"
    }
   ],
   "source": [
    "%%sql\n",
    "SELECT * \n",
    "FROM Visited \n",
    "WHERE dated = NULL;"
   ]
  },
  {
   "cell_type": "markdown",
   "metadata": {},
   "source": [
    "We have to use the special `IS NULL` and `IS NOT NULL` to deal explicitly with the concept of NULL."
   ]
  },
  {
   "cell_type": "code",
   "execution_count": 32,
   "metadata": {
    "collapsed": true
   },
   "outputs": [
    {
     "name": "stdout",
     "output_type": "stream",
     "text": [
      " * sqlite:///survey.db\n",
      "Done.\n"
     ]
    },
    {
     "data": {
      "text/html": [
       "<table>\n",
       "    <tr>\n",
       "        <th>ident</th>\n",
       "        <th>site</th>\n",
       "        <th>dated</th>\n",
       "    </tr>\n",
       "    <tr>\n",
       "        <td>752</td>\n",
       "        <td>DR-3</td>\n",
       "        <td>None</td>\n",
       "    </tr>\n",
       "</table>"
      ],
      "text/plain": [
       "[(752, 'DR-3', None)]"
      ]
     },
     "execution_count": 32,
     "metadata": {},
     "output_type": "execute_result"
    }
   ],
   "source": [
    "%%sql\n",
    "SELECT * FROM Visited WHERE dated IS NULL;"
   ]
  },
  {
   "cell_type": "code",
   "execution_count": null,
   "metadata": {
    "collapsed": true
   },
   "outputs": [],
   "source": [
    "%%sql\n",
    "SELECT * FROM Visited WHERE dated IS NOT NULL;"
   ]
  },
  {
   "cell_type": "markdown",
   "metadata": {},
   "source": [
    "Note the difference in the two following output results."
   ]
  },
  {
   "cell_type": "code",
   "execution_count": null,
   "metadata": {
    "collapsed": true
   },
   "outputs": [],
   "source": [
    "%%sql\n",
    "SELECT * \n",
    "FROM Survey \n",
    "WHERE quant = 'sal' \n",
    "  AND person != 'lake';"
   ]
  },
  {
   "cell_type": "code",
   "execution_count": null,
   "metadata": {
    "collapsed": true
   },
   "outputs": [],
   "source": [
    "%%sql\n",
    "SELECT * \n",
    "FROM Survey\n",
    "WHERE quant = 'sal'\n",
    "  AND (person != 'lake' OR person IS NULL);"
   ]
  },
  {
   "cell_type": "markdown",
   "metadata": {},
   "source": [
    "## Next Lecture\n",
    "## Join multiple tables\n",
    "\n",
    "Let's join `Site` and `Visited` tables."
   ]
  },
  {
   "cell_type": "code",
   "execution_count": null,
   "metadata": {
    "collapsed": true
   },
   "outputs": [],
   "source": [
    "%%sql\n",
    "SELECT *\n",
    "FROM Site, Visited"
   ]
  },
  {
   "cell_type": "markdown",
   "metadata": {},
   "source": [
    "How to fix it?"
   ]
  },
  {
   "cell_type": "code",
   "execution_count": null,
   "metadata": {
    "collapsed": true
   },
   "outputs": [],
   "source": [
    "%%sql\n",
    "SELECT *\n",
    "FROM Site, Visited\n",
    "WHERE Site.name = Visited.site"
   ]
  },
  {
   "cell_type": "markdown",
   "metadata": {},
   "source": [
    "Since the values of `name` and `site` columns are identical, we can remove one of them."
   ]
  },
  {
   "cell_type": "code",
   "execution_count": null,
   "metadata": {
    "collapsed": true
   },
   "outputs": [],
   "source": [
    "%%sql\n",
    "SELECT Site.name, Site.lat, Site.long,\n",
    "       Visited.ident, Visited.dated\n",
    "FROM Site, Visited\n",
    "WHERE Site.name = Visited.site"
   ]
  },
  {
   "cell_type": "markdown",
   "metadata": {},
   "source": [
    "## Aggregation: min(), max(), count(), avg()"
   ]
  },
  {
   "cell_type": "markdown",
   "metadata": {},
   "source": [
    "Aggregation takes multiple input attribute values and returns a single output value based on the operation."
   ]
  },
  {
   "cell_type": "code",
   "execution_count": null,
   "metadata": {
    "collapsed": true
   },
   "outputs": [],
   "source": [
    "%%sql\n",
    "SELECT MIN(dated)\n",
    "FROM Visited"
   ]
  },
  {
   "cell_type": "markdown",
   "metadata": {},
   "source": [
    "This diagram, also from the SW Carpentry lessons, illustrates the process clearly."
   ]
  },
  {
   "cell_type": "code",
   "execution_count": null,
   "metadata": {
    "collapsed": true
   },
   "outputs": [],
   "source": [
    "Image(url=\"http://swcarpentry.github.io/sql-novice-survey/fig/sql-aggregation.svg\")"
   ]
  },
  {
   "cell_type": "markdown",
   "metadata": {},
   "source": [
    "Each of these aggregators does what you think!"
   ]
  },
  {
   "cell_type": "code",
   "execution_count": null,
   "metadata": {
    "collapsed": true
   },
   "outputs": [],
   "source": [
    "%%sql\n",
    "SELECT AVG(reading)\n",
    "FROM Survey \n",
    "WHERE quant='sal'"
   ]
  },
  {
   "cell_type": "code",
   "execution_count": null,
   "metadata": {
    "collapsed": true
   },
   "outputs": [],
   "source": [
    "%%sql\n",
    "SELECT COUNT(reading) \n",
    "FROM Survey \n",
    "WHERE quant='sal'"
   ]
  },
  {
   "cell_type": "code",
   "execution_count": null,
   "metadata": {
    "collapsed": true
   },
   "outputs": [],
   "source": [
    "%%sql\n",
    "SELECT SUM(reading)\n",
    "FROM Survey\n",
    "WHERE quant='sal'"
   ]
  },
  {
   "cell_type": "markdown",
   "metadata": {},
   "source": [
    "We can use more than one aggregation with attributes."
   ]
  },
  {
   "cell_type": "code",
   "execution_count": null,
   "metadata": {
    "collapsed": true
   },
   "outputs": [],
   "source": [
    "%%sql\n",
    "SELECT MIN(reading), MAX(reading)\n",
    "FROM Survey \n",
    "WHERE quant = 'sal' \n",
    "  AND reading <= 1.0"
   ]
  },
  {
   "cell_type": "markdown",
   "metadata": {},
   "source": [
    "## Aggregation: GROUP BY, HAVING"
   ]
  },
  {
   "cell_type": "markdown",
   "metadata": {},
   "source": [
    "Aggregation allows the `GROUP BY` function that separates input attribute values into categories."
   ]
  },
  {
   "cell_type": "code",
   "execution_count": null,
   "metadata": {
    "collapsed": true
   },
   "outputs": [],
   "source": [
    "%%sql\n",
    "SELECT   person, COUNT(reading), ROUND(AVG(reading), 2)\n",
    "FROM     Survey\n",
    "WHERE    quant = 'rad'\n",
    "GROUP BY person"
   ]
  },
  {
   "cell_type": "markdown",
   "metadata": {},
   "source": [
    "We can add a special form of selection to grouped category attributes by using `HAVING` with `GROUP BY`."
   ]
  },
  {
   "cell_type": "code",
   "execution_count": null,
   "metadata": {
    "collapsed": true
   },
   "outputs": [],
   "source": [
    "%%sql\n",
    "SELECT   person, COUNT(reading), ROUND(AVG(reading), 2) AS avg_reading\n",
    "FROM     Survey\n",
    "WHERE    quant = 'rad'\n",
    "GROUP BY person\n",
    "HAVING   avg_reading < 10.0\n",
    "ORDER BY person"
   ]
  }
 ],
 "metadata": {
  "anaconda-cloud": {},
  "kernelspec": {
   "display_name": "Python 3",
   "language": "python",
   "name": "python3"
  },
  "language_info": {
   "codemirror_mode": {
    "name": "ipython",
    "version": 3
   },
   "file_extension": ".py",
   "mimetype": "text/x-python",
   "name": "python",
   "nbconvert_exporter": "python",
   "pygments_lexer": "ipython3",
   "version": "3.5.3"
  }
 },
 "nbformat": 4,
 "nbformat_minor": 2
}
